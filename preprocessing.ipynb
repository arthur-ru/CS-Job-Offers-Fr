{
  "cells": [
    {
      "cell_type": "markdown",
      "metadata": {},
      "source": [
        "Jupyter Notebook dedicated to the preprocessing of a dataset loaded from `output_file.csv`. The initial steps involve importing necessary libraries, such as pandas for data manipulation and re for regular expressions, and loading the dataset into a pandas DataFrame."
      ]
    },
    {
      "cell_type": "code",
      "execution_count": null,
      "metadata": {
        "id": "Cg8LAqli0-1H"
      },
      "outputs": [],
      "source": [
        "import pandas as pd\n",
        "import re\n",
        "\n",
        "df = pd.read_csv('data/output_file.csv')"
      ]
    },
    {
      "cell_type": "markdown",
      "metadata": {},
      "source": [
        "Preview the `.csv` file to see if its corresponding."
      ]
    },
    {
      "cell_type": "code",
      "execution_count": null,
      "metadata": {
        "colab": {
          "base_uri": "https://localhost:8080/",
          "height": 884
        },
        "id": "Qv-U47RQ1Eer",
        "outputId": "9f6d003a-5148-446f-fdf7-9a8d561eb5d5"
      },
      "outputs": [],
      "source": [
        "df.head(10)"
      ]
    },
    {
      "cell_type": "markdown",
      "metadata": {},
      "source": [
        "Cleans and standardizing of the data for further analysis. In this section, we focus on the `experience` column, converting it to a string format to handle any NaN values seamlessly. \n",
        "A function is defined to extract numerical values from this column, aiming to capture the YoE in a uniform format."
      ]
    },
    {
      "cell_type": "code",
      "execution_count": null,
      "metadata": {
        "colab": {
          "base_uri": "https://localhost:8080/",
          "height": 211
        },
        "id": "EnttifFgoLDC",
        "outputId": "20ad1077-eae9-4fed-8d2d-c96d708b4a8d"
      },
      "outputs": [],
      "source": [
        "df['experience'] = df['experience'].astype(str)  # Convert to string to handle NaN values\n",
        "\n",
        "# Define a function to extract the numerical value from the experience column\n",
        "def extract_experience(text):\n",
        "    match = re.search(r'\\+?\\s*(\\d+)', str(text))\n",
        "    if match:\n",
        "        return match.group(1)\n",
        "    else:\n",
        "        return None\n",
        "\n",
        "# Apply the function to the 'Expérience' column\n",
        "df['experience'] = df['experience'].apply(extract_experience)\n",
        "\n",
        "df.head(5)"
      ]
    },
    {
      "cell_type": "markdown",
      "metadata": {},
      "source": [
        "Standardize the `salaire` (salary) column by first converting all entries to strings to facilitate the extraction of salary ranges using regular expressions. \n",
        "The `extract_average_salary` function identifies and calculates the average of salary ranges, adjusting monthly salaries to their yearly equivalents for consistency. \n",
        "Finally, the processed salaries are rounded to two decimal places, and the first 20 rows of the DataFrame are displayed to verify the modifications."
      ]
    },
    {
      "cell_type": "code",
      "execution_count": null,
      "metadata": {
        "colab": {
          "base_uri": "https://localhost:8080/",
          "height": 1000
        },
        "id": "NgSiWd_OsMDS",
        "outputId": "bc739917-a77b-4dd7-bdb4-d94bf0cbefac"
      },
      "outputs": [],
      "source": [
        "df['salaire'] = df['salaire'].astype(str)\n",
        "\n",
        "def extract_average_salary(text):\n",
        "  text = text.replace(' ','')\n",
        "  matches = re.findall(r'(\\d[\\d ,.]*)\\s*-\\s*(\\d[\\d ,.]*)\\s*(?:EUR)?\\s*(?:par)?\\s*(an|mois)?', str(text), flags=re.IGNORECASE)\n",
        "  if matches:\n",
        "    start_salary, end_salary, unit = matches[0]\n",
        "    start_salary, end_salary = map(float, [start_salary.replace(',','.'), end_salary.replace(',','.')])\n",
        "\n",
        "    if unit and unit.lower() == 'mois':\n",
        "        return (start_salary + end_salary) / 2 * 12  # Convert monthly to yearly\n",
        "    else:\n",
        "        return (start_salary + end_salary) / 2\n",
        "  else:\n",
        "    return None\n",
        "\n",
        "df['salaire'] = df['salaire'].apply(extract_average_salary)\n",
        "df['salaire'] = df['salaire'].round(2)\n",
        "df.head(20)"
      ]
    },
    {
      "cell_type": "markdown",
      "metadata": {},
      "source": [
        "Compute the mean salary and fill the `NaN`values with it to allow for further analysis without calculation errors."
      ]
    },
    {
      "cell_type": "code",
      "execution_count": null,
      "metadata": {
        "id": "o7rZ9zPq1ZNk"
      },
      "outputs": [],
      "source": [
        "average_salaire = df['salaire'].mean()\n",
        "\n",
        "# Replace NaN values in the 'salaire' column with the average value\n",
        "df['salaire'].fillna(average_salaire, inplace=True)"
      ]
    },
    {
      "cell_type": "markdown",
      "metadata": {},
      "source": [
        "Round the salary value to the nearest round number, and filter the dataframe to only include salary values greater than or equal to 1000."
      ]
    },
    {
      "cell_type": "code",
      "execution_count": null,
      "metadata": {
        "colab": {
          "base_uri": "https://localhost:8080/",
          "height": 293
        },
        "id": "xwdQVV3o1m9l",
        "outputId": "9ce39524-b57a-40e4-ed3d-8f957db321ad"
      },
      "outputs": [],
      "source": [
        "df['salaire'] = df['salaire'].round(0)\n",
        "df = df[df['salaire'] >= 1000]"
      ]
    },
    {
      "cell_type": "markdown",
      "metadata": {},
      "source": [
        "This code standardizes location names for Paris and Lyon in the `location` column by removing district information. It replaces specific district references with a generalized city name for Paris and Lyon to avoid redundance."
      ]
    },
    {
      "cell_type": "code",
      "execution_count": null,
      "metadata": {
        "colab": {
          "base_uri": "https://localhost:8080/"
        },
        "id": "9j7K3m8lvdrE",
        "outputId": "b2da908c-e98d-4ea9-b95f-cc059aa448cd"
      },
      "outputs": [],
      "source": [
        "df['location'].replace('Paris 1er - 75', 'Paris - 75', inplace=True)\n",
        "df['location'].replace('Lyon 1er - 69', 'Lyon - 69', inplace=True)\n",
        "df[df['location']=='Lyon - 69'].count()"
      ]
    },
    {
      "cell_type": "markdown",
      "metadata": {},
      "source": [
        "Split the `location` column into two new columns, `city` and `department`, based on a dash delimiter, and then removes the original `location` column from the DataFrame to only keep the `department` number."
      ]
    },
    {
      "cell_type": "code",
      "execution_count": null,
      "metadata": {
        "id": "ABsY-KNSyT6l"
      },
      "outputs": [],
      "source": [
        "df[['city', 'department']] = df['location'].str.split(r' - ', expand=True)\n",
        "\n",
        "# Drop the original 'location' column\n",
        "df.drop(columns=['location'], inplace=True)\n"
      ]
    },
    {
      "cell_type": "markdown",
      "metadata": {},
      "source": [
        "Identify rows where the `department` column is null. After dropping rows with null `department` values, verify the removal by checking for nulls again."
      ]
    },
    {
      "cell_type": "code",
      "execution_count": null,
      "metadata": {
        "colab": {
          "base_uri": "https://localhost:8080/",
          "height": 1000
        },
        "id": "fv-Calwh0nw0",
        "outputId": "59723862-6293-4e6e-94c0-bbcc2809fe1c"
      },
      "outputs": [],
      "source": [
        "df[df['department'].isnull()]\n",
        "df.dropna(subset=['department'], inplace=True)\n",
        "df[df['department'].isnull()]"
      ]
    },
    {
      "cell_type": "markdown",
      "metadata": {},
      "source": [
        "Convert string representations of lists in the `skills` column back into actual list objects using `ast.literal_eval`, replacing NaN values with empty lists.\n"
      ]
    },
    {
      "cell_type": "code",
      "execution_count": null,
      "metadata": {
        "colab": {
          "base_uri": "https://localhost:8080/",
          "height": 176
        },
        "id": "w9iOoOll6Mye",
        "outputId": "ba6f1ee3-2d01-4755-c689-94eaa288d11a"
      },
      "outputs": [],
      "source": [
        "import ast\n",
        "\n",
        "df['skills'] = df['skills'].apply(lambda x: ast.literal_eval(x) if pd.notna(x) else [])"
      ]
    },
    {
      "cell_type": "markdown",
      "metadata": {},
      "source": [
        "Define a function to remove duplicate entries from lists in the `skills` column. Apply it, and convert all skills to lowercase for consistency matching.\n"
      ]
    },
    {
      "cell_type": "code",
      "execution_count": null,
      "metadata": {
        "id": "rpsjsHgm6hL3"
      },
      "outputs": [],
      "source": [
        "def remove_duplicates(lst):\n",
        "    return list(set(lst))\n",
        "\n",
        "# Apply the function to remove duplicates\n",
        "df['skills'] = df['skills'].apply(remove_duplicates)\n",
        "\n",
        "df['skills'] = df['skills'].apply(lambda x: [skill.lower() for skill in x])"
      ]
    },
    {
      "cell_type": "markdown",
      "metadata": {},
      "source": [
        "Filter the DataFrame to include only rows where the list in the `skills` column contains more than 20 items. Print the shape of the DataFrame to see if the operation worked correctly."
      ]
    },
    {
      "cell_type": "code",
      "execution_count": null,
      "metadata": {
        "colab": {
          "base_uri": "https://localhost:8080/"
        },
        "id": "hC_0ReLf8CtY",
        "outputId": "0f01f2d6-f088-43d2-c299-41275baf313b"
      },
      "outputs": [],
      "source": [
        "filtered_rows = df[df['skills'].apply(len) > 20]\n",
        "filtered_rows.shape"
      ]
    },
    {
      "cell_type": "markdown",
      "metadata": {},
      "source": [
        "Download the processed DataFrame in the `finalData.csv` csv file."
      ]
    },
    {
      "cell_type": "code",
      "execution_count": null,
      "metadata": {
        "id": "PpEdQxPjURBJ"
      },
      "outputs": [],
      "source": [
        "df.to_csv('finalData.csv', index=False)"
      ]
    }
  ],
  "metadata": {
    "colab": {
      "provenance": []
    },
    "kernelspec": {
      "display_name": "Python 3",
      "name": "python3"
    },
    "language_info": {
      "name": "python"
    }
  },
  "nbformat": 4,
  "nbformat_minor": 0
}
