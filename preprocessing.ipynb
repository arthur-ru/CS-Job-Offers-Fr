{
  "cells": [
    {
      "cell_type": "code",
      "execution_count": null,
      "metadata": {
        "id": "Cg8LAqli0-1H"
      },
      "outputs": [],
      "source": [
        "import pandas as pd\n",
        "import re\n",
        "\n",
        "df = pd.read_csv('data/output_file.csv')"
      ]
    },
    {
      "cell_type": "code",
      "execution_count": null,
      "metadata": {
        "colab": {
          "base_uri": "https://localhost:8080/",
          "height": 884
        },
        "id": "Qv-U47RQ1Eer",
        "outputId": "9f6d003a-5148-446f-fdf7-9a8d561eb5d5"
      },
      "outputs": [],
      "source": [
        "df.head(10)"
      ]
    },
    {
      "cell_type": "code",
      "execution_count": null,
      "metadata": {
        "colab": {
          "base_uri": "https://localhost:8080/",
          "height": 211
        },
        "id": "EnttifFgoLDC",
        "outputId": "20ad1077-eae9-4fed-8d2d-c96d708b4a8d"
      },
      "outputs": [],
      "source": [
        "df['experience'] = df['experience'].astype(str)  # Convert to string to handle NaN values\n",
        "\n",
        "# Define a function to extract the numerical value from the experience column\n",
        "def extract_experience(text):\n",
        "    match = re.search(r'\\+?\\s*(\\d+)', str(text))\n",
        "    if match:\n",
        "        return match.group(1)\n",
        "    else:\n",
        "        return None\n",
        "\n",
        "# Apply the function to the 'Expérience' column\n",
        "df['experience'] = df['experience'].apply(extract_experience)\n",
        "\n",
        "df.head(5)"
      ]
    },
    {
      "cell_type": "code",
      "execution_count": null,
      "metadata": {
        "colab": {
          "base_uri": "https://localhost:8080/",
          "height": 1000
        },
        "id": "NgSiWd_OsMDS",
        "outputId": "bc739917-a77b-4dd7-bdb4-d94bf0cbefac"
      },
      "outputs": [],
      "source": [
        "\n",
        "\n",
        "df['salaire'] = df['salaire'].astype(str)\n",
        "\n",
        "\n",
        "def extract_average_salary(text):\n",
        "  text = text.replace(' ','')\n",
        "  matches = re.findall(r'(\\d[\\d ,.]*)\\s*-\\s*(\\d[\\d ,.]*)\\s*(?:EUR)?\\s*(?:par)?\\s*(an|mois)?', str(text), flags=re.IGNORECASE)\n",
        "  if matches:\n",
        "    start_salary, end_salary, unit = matches[0]\n",
        "    start_salary, end_salary = map(float, [start_salary.replace(',','.'), end_salary.replace(',','.')])\n",
        "\n",
        "    if unit and unit.lower() == 'mois':\n",
        "        return (start_salary + end_salary) / 2 * 12  # Convert monthly to yearly\n",
        "    else:\n",
        "        return (start_salary + end_salary) / 2\n",
        "  else:\n",
        "    return None\n",
        "\n",
        "df['salaire'] = df['salaire'].apply(extract_average_salary)\n",
        "df['salaire'] = df['salaire'].round(2)\n",
        "df.head(20)\n"
      ]
    },
    {
      "cell_type": "code",
      "execution_count": null,
      "metadata": {
        "id": "o7rZ9zPq1ZNk"
      },
      "outputs": [],
      "source": [
        "average_salaire = df['salaire'].mean()\n",
        "\n",
        "# Replace NaN values in the 'salaire' column with the average value\n",
        "df['salaire'].fillna(average_salaire, inplace=True)"
      ]
    },
    {
      "cell_type": "code",
      "execution_count": null,
      "metadata": {
        "colab": {
          "base_uri": "https://localhost:8080/",
          "height": 293
        },
        "id": "xwdQVV3o1m9l",
        "outputId": "9ce39524-b57a-40e4-ed3d-8f957db321ad"
      },
      "outputs": [],
      "source": [
        "df['salaire'] = df['salaire'].round(0)\n",
        "df.head()"
      ]
    },
    {
      "cell_type": "code",
      "execution_count": null,
      "metadata": {
        "id": "qGZwnazEtbXD"
      },
      "outputs": [],
      "source": [
        "df = df[df['salaire'] >= 1000]"
      ]
    },
    {
      "cell_type": "code",
      "execution_count": null,
      "metadata": {
        "colab": {
          "base_uri": "https://localhost:8080/"
        },
        "id": "9j7K3m8lvdrE",
        "outputId": "b2da908c-e98d-4ea9-b95f-cc059aa448cd"
      },
      "outputs": [],
      "source": [
        "df['location'].replace('Paris 1er - 75', 'Paris - 75', inplace=True)\n",
        "df['location'].replace('Lyon 1er - 69', 'Lyon - 69', inplace=True)\n",
        "df[df['location']=='Lyon - 69'].count()"
      ]
    },
    {
      "cell_type": "code",
      "execution_count": null,
      "metadata": {
        "id": "ABsY-KNSyT6l"
      },
      "outputs": [],
      "source": [
        "df[['city', 'department']] = df['location'].str.split(r' - ', expand=True)\n",
        "\n",
        "# Drop the original 'location' column\n",
        "df.drop(columns=['location'], inplace=True)\n"
      ]
    },
    {
      "cell_type": "code",
      "execution_count": null,
      "metadata": {
        "colab": {
          "base_uri": "https://localhost:8080/",
          "height": 1000
        },
        "id": "fv-Calwh0nw0",
        "outputId": "59723862-6293-4e6e-94c0-bbcc2809fe1c"
      },
      "outputs": [],
      "source": [
        "df[df['department'].isnull()]"
      ]
    },
    {
      "cell_type": "code",
      "execution_count": null,
      "metadata": {
        "colab": {
          "base_uri": "https://localhost:8080/"
        },
        "id": "0yg-ZOaQ6Faf",
        "outputId": "e033d2e2-ca87-445d-e485-2cf79bbaeae5"
      },
      "outputs": [],
      "source": [
        "df.shape"
      ]
    },
    {
      "cell_type": "code",
      "execution_count": null,
      "metadata": {
        "id": "jprI5quA6HpH"
      },
      "outputs": [],
      "source": [
        "df.dropna(subset=['department'], inplace=True)"
      ]
    },
    {
      "cell_type": "code",
      "execution_count": null,
      "metadata": {
        "colab": {
          "base_uri": "https://localhost:8080/",
          "height": 53
        },
        "id": "tUo2Y_Xl6LoI",
        "outputId": "383a6953-b67d-471f-87cc-fb7b4e46987f"
      },
      "outputs": [],
      "source": [
        "df[df['department'].isnull()]"
      ]
    },
    {
      "cell_type": "code",
      "execution_count": null,
      "metadata": {
        "colab": {
          "base_uri": "https://localhost:8080/",
          "height": 176
        },
        "id": "w9iOoOll6Mye",
        "outputId": "ba6f1ee3-2d01-4755-c689-94eaa288d11a"
      },
      "outputs": [],
      "source": [
        "import ast\n",
        "\n",
        "df['skills'] = df['skills'].apply(lambda x: ast.literal_eval(x) if pd.notna(x) else [])\n"
      ]
    },
    {
      "cell_type": "code",
      "execution_count": null,
      "metadata": {
        "id": "rpsjsHgm6hL3"
      },
      "outputs": [],
      "source": [
        "def remove_duplicates(lst):\n",
        "    return list(set(lst))\n",
        "\n",
        "# Apply the function to remove duplicates\n",
        "df['skills'] = df['skills'].apply(remove_duplicates)\n",
        "\n",
        "df['skills'] = df['skills'].apply(lambda x: [skill.lower() for skill in x])"
      ]
    },
    {
      "cell_type": "code",
      "execution_count": null,
      "metadata": {
        "colab": {
          "base_uri": "https://localhost:8080/"
        },
        "id": "hC_0ReLf8CtY",
        "outputId": "0f01f2d6-f088-43d2-c299-41275baf313b"
      },
      "outputs": [],
      "source": [
        "filtered_rows = df[df['skills'].apply(len) > 20]\n",
        "\n",
        "filtered_rows.shape"
      ]
    },
    {
      "cell_type": "code",
      "execution_count": null,
      "metadata": {
        "id": "PpEdQxPjURBJ"
      },
      "outputs": [],
      "source": [
        "df.to_csv('finalData.csv', index=False)\n",
        "\n"
      ]
    }
  ],
  "metadata": {
    "colab": {
      "provenance": []
    },
    "kernelspec": {
      "display_name": "Python 3",
      "name": "python3"
    },
    "language_info": {
      "name": "python"
    }
  },
  "nbformat": 4,
  "nbformat_minor": 0
}
